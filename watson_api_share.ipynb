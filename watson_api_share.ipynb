{
  "nbformat": 4,
  "nbformat_minor": 0,
  "metadata": {
    "colab": {
      "name": "watson_api_share.ipynb",
      "provenance": [],
      "authorship_tag": "ABX9TyMw/oeU2SkLquIFQfMTAFjp",
      "include_colab_link": true
    },
    "kernelspec": {
      "display_name": "Python 3",
      "name": "python3"
    },
    "language_info": {
      "name": "python"
    }
  },
  "cells": [
    {
      "cell_type": "markdown",
      "metadata": {
        "id": "view-in-github",
        "colab_type": "text"
      },
      "source": [
        "<a href=\"https://colab.research.google.com/github/alansenairj/chatbot_watson/blob/main/watson_api_share.ipynb\" target=\"_parent\"><img src=\"https://colab.research.google.com/assets/colab-badge.svg\" alt=\"Open In Colab\"/></a>"
      ]
    },
    {
      "cell_type": "code",
      "metadata": {
        "colab": {
          "base_uri": "https://localhost:8080/"
        },
        "id": "Ko6eQqoTEgxE",
        "outputId": "82d15880-fa10-493d-feea-e10feb2e39ab"
      },
      "source": [
        "# bibliotecas auxiliares e importações de suporte\n",
        "\n",
        "#biblioteca para executar api flask no colab\n",
        "!pip install flask-ngrok\n",
        "\n",
        "# biblioteca para entrar dados mascarados\n",
        "from getpass import getpass\n",
        "\n",
        "# Configuração de usuário e senha do email smtp\n",
        "u = getpass('User: ')\n",
        "g = getpass('Password: ')\n",
        "\n",
        "# módulos necessários do flask\n",
        "from flask import Flask, request, jsonify\n",
        "\n",
        "# módulos para crawler das informações\n",
        "import requests\n",
        "from bs4 import BeautifulSoup\n",
        "\n",
        "# módulos para envio de e-mail\n",
        "import smtplib\n",
        "from email.mime.multipart import MIMEMultipart\n",
        "from email.mime.text import MIMEText\n",
        "\n",
        "# criar app Flask\n",
        "app = Flask(__name__, static_url_path='')\n",
        "\n",
        "# apenas para executar no colab\n",
        "from flask_ngrok import run_with_ngrok\n",
        "run_with_ngrok(app)\n",
        "\n",
        "# mapeamento das URLs dos cursos para crawler\n",
        "curso_urls = {\n",
        "    'IA':'https://www.impacta.edu.br/mba/artificial-intelligence',\n",
        "    'Big Data':'https://www.impacta.edu.br/mba/business-intelligence-e-analytics'\n",
        "}\n",
        "\n",
        "# GET raiz para teste\n",
        "@app.route('/')\n",
        "def root():        \n",
        "    return \"OK\"\n",
        "\n",
        "# endpoint do webhook - POST\n",
        "@app.route('/watsonwebhook',  methods=['POST'])\n",
        "def watsonwebhook():\n",
        "  # retornar dados enviados no formato JSON\n",
        "  req = request.get_json()\n",
        "\n",
        "  # tipo da task enviada: info ou email\n",
        "  task = req['task']\n",
        "  if task =='info':\n",
        "\n",
        "    # nome do curso enviado\n",
        "    curso = req['curso']\n",
        "\n",
        "    #crawler para pegar informações\n",
        "    r = requests.get(curso_urls[curso]).text\n",
        "    info = BeautifulSoup(r, 'html.parser')(class_='background-base-site')[0].text\n",
        "\n",
        "    #retornar informações no campo info, no formato JSON\n",
        "    return jsonify({'info':info})\n",
        "  elif task == 'email':\n",
        "    try:\n",
        "      # configuração e envio de email\n",
        "      message = MIMEMultipart()\n",
        "      message['From'] = u\n",
        "      message['To'] = req['email']\n",
        "      message['Subject'] = 'Confirmação pré-matrícula'\n",
        "      texto_mensagem = f'Olá! Sua pré-matrícula no curso de {req[\"curso\"]} para o {req[\"semestre\"]} semestre está confirmada'\n",
        "      message.attach(MIMEText(texto_mensagem, 'plain'))\n",
        "      \n",
        "      session = smtplib.SMTP('smtp.gmail.com', 587) \n",
        "      session.starttls()\n",
        "      session.login(u, g)\n",
        "      text = message.as_string()\n",
        "      session.sendmail(u, req['email'], text)\n",
        "      session.quit()\n",
        "      # retorno de sucesso no formato JSON\n",
        "      return jsonify({'status':'ok'})\n",
        "    except Exception as ex:\n",
        "      print(ex)\n",
        "      # retorno de erro no formato JSON\n",
        "      return jsonify({'status':'erro'})\n",
        "  \n",
        "# executar app flask\n",
        "if __name__ == '__main__':\n",
        "  app.run()\n",
        "\n",
        "\n"
      ],
      "execution_count": null,
      "outputs": [
        {
          "output_type": "stream",
          "text": [
            "Requirement already satisfied: flask-ngrok in /usr/local/lib/python3.7/dist-packages (0.0.25)\n",
            "Requirement already satisfied: requests in /usr/local/lib/python3.7/dist-packages (from flask-ngrok) (2.23.0)\n",
            "Requirement already satisfied: Flask>=0.8 in /usr/local/lib/python3.7/dist-packages (from flask-ngrok) (1.1.4)\n",
            "Requirement already satisfied: click<8.0,>=5.1 in /usr/local/lib/python3.7/dist-packages (from Flask>=0.8->flask-ngrok) (7.1.2)\n",
            "Requirement already satisfied: Jinja2<3.0,>=2.10.1 in /usr/local/lib/python3.7/dist-packages (from Flask>=0.8->flask-ngrok) (2.11.3)\n",
            "Requirement already satisfied: itsdangerous<2.0,>=0.24 in /usr/local/lib/python3.7/dist-packages (from Flask>=0.8->flask-ngrok) (1.1.0)\n",
            "Requirement already satisfied: Werkzeug<2.0,>=0.15 in /usr/local/lib/python3.7/dist-packages (from Flask>=0.8->flask-ngrok) (1.0.1)\n",
            "Requirement already satisfied: MarkupSafe>=0.23 in /usr/local/lib/python3.7/dist-packages (from Jinja2<3.0,>=2.10.1->Flask>=0.8->flask-ngrok) (2.0.1)\n",
            "Requirement already satisfied: idna<3,>=2.5 in /usr/local/lib/python3.7/dist-packages (from requests->flask-ngrok) (2.10)\n",
            "Requirement already satisfied: urllib3!=1.25.0,!=1.25.1,<1.26,>=1.21.1 in /usr/local/lib/python3.7/dist-packages (from requests->flask-ngrok) (1.24.3)\n",
            "Requirement already satisfied: chardet<4,>=3.0.2 in /usr/local/lib/python3.7/dist-packages (from requests->flask-ngrok) (3.0.4)\n",
            "Requirement already satisfied: certifi>=2017.4.17 in /usr/local/lib/python3.7/dist-packages (from requests->flask-ngrok) (2021.5.30)\n",
            "User: ··········\n",
            "Password: ··········\n",
            " * Serving Flask app \"__main__\" (lazy loading)\n",
            " * Environment: production\n",
            "\u001b[31m   WARNING: This is a development server. Do not use it in a production deployment.\u001b[0m\n",
            "\u001b[2m   Use a production WSGI server instead.\u001b[0m\n",
            " * Debug mode: off\n"
          ],
          "name": "stdout"
        },
        {
          "output_type": "stream",
          "text": [
            " * Running on http://127.0.0.1:5000/ (Press CTRL+C to quit)\n"
          ],
          "name": "stderr"
        },
        {
          "output_type": "stream",
          "text": [
            " * Running on http://08e76330b2cb.ngrok.io\n",
            " * Traffic stats available on http://127.0.0.1:4040\n"
          ],
          "name": "stdout"
        },
        {
          "output_type": "stream",
          "text": [
            "127.0.0.1 - - [30/Jul/2021 22:11:54] \"\u001b[37mGET / HTTP/1.1\u001b[0m\" 200 -\n",
            "127.0.0.1 - - [30/Jul/2021 22:11:54] \"\u001b[33mGET /favicon.ico HTTP/1.1\u001b[0m\" 404 -\n",
            "127.0.0.1 - - [30/Jul/2021 22:12:17] \"\u001b[37mPOST /watsonwebhook HTTP/1.1\u001b[0m\" 200 -\n",
            "127.0.0.1 - - [30/Jul/2021 22:17:39] \"\u001b[37mGET / HTTP/1.1\u001b[0m\" 200 -\n",
            "127.0.0.1 - - [30/Jul/2021 22:47:37] \"\u001b[37mPOST /watsonwebhook HTTP/1.1\u001b[0m\" 200 -\n",
            "127.0.0.1 - - [30/Jul/2021 22:52:16] \"\u001b[37mPOST /watsonwebhook HTTP/1.1\u001b[0m\" 200 -\n"
          ],
          "name": "stderr"
        }
      ]
    }
  ]
}